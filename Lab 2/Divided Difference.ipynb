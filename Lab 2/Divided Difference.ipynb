{
 "cells": [
  {
   "cell_type": "code",
   "execution_count": 1,
   "id": "2fc01e4f",
   "metadata": {},
   "outputs": [],
   "source": [
    "def poly_to_expr(px):\n",
    "    '''\n",
    "    This function converts a polynomial into an expression\n",
    "    '''\n",
    "    #Convert the polynomial to an expression\n",
    "    expr = 0\n",
    "    for index, i in enumerate(px):\n",
    "        expr = expr + i*x**index\n",
    "    return expr"
   ]
  },
  {
   "cell_type": "code",
   "execution_count": 2,
   "id": "527937f1",
   "metadata": {},
   "outputs": [
    {
     "name": "stdout",
     "output_type": "stream",
     "text": [
      "Enter the number of points: 5\n",
      "\n",
      "Enter x coordinate for point 1: \n",
      "1\n",
      "Enter y coordinate for point 1: \n",
      "0.7651977\n",
      "\n",
      "Enter x coordinate for point 2: \n",
      "1.3\n",
      "Enter y coordinate for point 2: \n",
      "0.6200860\n",
      "\n",
      "Enter x coordinate for point 3: \n",
      "1.6\n",
      "Enter y coordinate for point 3: \n",
      "0.4554022\n",
      "\n",
      "Enter x coordinate for point 4: \n",
      "1.9\n",
      "Enter y coordinate for point 4: \n",
      "0.2818186\n",
      "\n",
      "Enter x coordinate for point 5: \n",
      "2.2\n",
      "Enter y coordinate for point 5: \n",
      "0.1103623\n",
      "\n",
      "Enter x coordinate of the point at which you want to evaluate the function: 2.2113\n",
      "Value must be within 1.0 and 2.2 inclusive. Re-enter: \n",
      "1.5\n",
      "\n",
      "p(1.5) = 0.5118199942386831\n",
      "p(x): \n"
     ]
    },
    {
     "data": {
      "text/latex": [
       "$\\displaystyle 0.00182510288066044 x^{4} + 0.0552927983538978 x^{3} - 0.343046604938247 x^{2} + 0.0733913477366034 x + 0.977735055967085$"
      ],
      "text/plain": [
       "0.00182510288066044*x**4 + 0.0552927983538978*x**3 - 0.343046604938247*x**2 + 0.0733913477366034*x + 0.977735055967085"
      ]
     },
     "execution_count": 2,
     "metadata": {},
     "output_type": "execute_result"
    }
   ],
   "source": [
    "# Newton Divided Difference\n",
    "\n",
    "# Importing libraries\n",
    "from math import *\n",
    "from sympy import *\n",
    "from numpy.polynomial import polynomial as P\n",
    "import sys\n",
    "\n",
    "# Defining x as a symbol\n",
    "x = symbols('x')\n",
    "\n",
    "# Taking input\n",
    "num_points = int(input(\"Enter the number of points: \"))\n",
    "while (num_points < 2): # Validation\n",
    "    num_points = int(input(\"A minimum of 2 points are needed for interpolation. Please re-enter: \"))\n",
    "print(\"\") # To leave a blank line\n",
    "\n",
    "points = []\n",
    "for i in range(0, num_points):\n",
    "    print(\"Enter x coordinate for point {}: \" .format(i+1))\n",
    "    x_coord = float(input())\n",
    "    print(\"Enter y coordinate for point {}: \" .format(i+1))\n",
    "    y_coord = float(input())\n",
    "    for j in points: # Validation to ensure that the same point is not entered twice!\n",
    "        if (x_coord == j[0]):\n",
    "            print(\"The same point cannot be entered twice!\")\n",
    "            sys.exit()\n",
    "    points.append((x_coord, y_coord))\n",
    "    print(\"\") # To leave a blank line\n",
    "points.sort() # To sort the points in ascending order of x coordinates.\n",
    "              # Needed because the user may not provide the points in the correct order\n",
    "\n",
    "value = float(input(\"Enter x coordinate of the point at which you want to evaluate the function: \"))\n",
    "# Ensuring that the value is within range\n",
    "while (value < points[0][0] or value > points[-1][0]):\n",
    "    print(\"Value must be within {} and {} inclusive. Re-enter: \" .format(points[0][0], points[-1][0]))\n",
    "    value = float(input())\n",
    "print(\"\") # To leave a blank line\n",
    "\n",
    "# Constructing the divided difference table\n",
    "px = (0)\n",
    "table = []\n",
    "table.append([])\n",
    "for i in points:\n",
    "    table[-1].append(i[1])\n",
    "for i in range(1, num_points):\n",
    "    table.append([])\n",
    "    for k in range(1, len(table[-2])):\n",
    "        table[-1].append((table[-2][k] - table[-2][k - 1])/(points[i + k - 1][0] - points[k - 1][0]))\n",
    "\n",
    "# Constructing the polynomial\n",
    "for index, i in enumerate(table):\n",
    "    p1 = (i[0])\n",
    "    for k in range(0, index):\n",
    "        p2 = (-points[k][0], 1)\n",
    "        p1 = P.polymul(p1, p2)\n",
    "    px = P.polyadd(px, p1)\n",
    "\n",
    "# Approximating the value provided by the user\n",
    "ans = P.polyval(value, px)\n",
    "\n",
    "# Converting the polynomial into an output expression\n",
    "expr = poly_to_expr(px)\n",
    "\n",
    "# Output\n",
    "print(\"p({}) = {}\" .format(value, ans))\n",
    "print(\"p(x): \")\n",
    "expr"
   ]
  }
 ],
 "metadata": {
  "kernelspec": {
   "display_name": "Python 3 (ipykernel)",
   "language": "python",
   "name": "python3"
  },
  "language_info": {
   "codemirror_mode": {
    "name": "ipython",
    "version": 3
   },
   "file_extension": ".py",
   "mimetype": "text/x-python",
   "name": "python",
   "nbconvert_exporter": "python",
   "pygments_lexer": "ipython3",
   "version": "3.9.7"
  }
 },
 "nbformat": 4,
 "nbformat_minor": 5
}
