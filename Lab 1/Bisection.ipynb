{
 "cells": [
  {
   "cell_type": "code",
   "execution_count": 1,
   "id": "677c3710",
   "metadata": {},
   "outputs": [],
   "source": [
    "# Function\n",
    "def find_root(fx, a, b, tol, boolean, n):\n",
    "    if (abs(fx(a)) <= tol): # Starting point of interval is the root\n",
    "        print(\"\\nRoot: {}\" .format(a))\n",
    "        return\n",
    "    if (abs(fx(b)) <= tol): # Ending point of interval is the root\n",
    "        print(\"\\nRoot: {}\" .format(b))\n",
    "        return\n",
    "    c = (a+b) / 2\n",
    "    if (boolean):\n",
    "        print(\"| {0:^3} | {1:^15} | {2:^15} | {3:^15} | {4:^15} |\" .format('n', 'a', 'b', 'c', 'f(c)'))\n",
    "    if (fx(a) * fx(c) > 0):\n",
    "        print(\"| {0:^3} | {1:^15.10f} | {2:^15.10f} | {3:^15.10f} | {4:^15.10f} |\" .format(n, a, b, c, fx(c)))\n",
    "        find_root(fx, c, b, tol, False, n+1)\n",
    "    else:\n",
    "        print(\"| {0:^3} | {1:^15.10f} | {2:^15.10f} | {3:^15.10f} | {4:^15.10f} |\" .format(n, a, b, c, fx(c)))\n",
    "        find_root(fx, a, c, tol, False, n+1)"
   ]
  },
  {
   "cell_type": "code",
   "execution_count": 2,
   "id": "007ecc3f",
   "metadata": {},
   "outputs": [
    {
     "name": "stdout",
     "output_type": "stream",
     "text": [
      "Enter the function whose roots you want to find. The variable must be x\n",
      "\n",
      "Enter your function here: x**2 - 2\n",
      "\n",
      "Enter starting point of interval: 1\n",
      "Enter ending point of interval: 2\n",
      "\n",
      "Enter the tolerance value: 0.00001\n",
      "\n",
      "|  n  |        a        |        b        |        c        |      f(c)       |\n",
      "|  0  |  1.0000000000   |  2.0000000000   |  1.5000000000   |  0.2500000000   |\n",
      "|  1  |  1.0000000000   |  1.5000000000   |  1.2500000000   |  -0.4375000000  |\n",
      "|  2  |  1.2500000000   |  1.5000000000   |  1.3750000000   |  -0.1093750000  |\n",
      "|  3  |  1.3750000000   |  1.5000000000   |  1.4375000000   |  0.0664062500   |\n",
      "|  4  |  1.3750000000   |  1.4375000000   |  1.4062500000   |  -0.0224609375  |\n",
      "|  5  |  1.4062500000   |  1.4375000000   |  1.4218750000   |  0.0217285156   |\n",
      "|  6  |  1.4062500000   |  1.4218750000   |  1.4140625000   |  -0.0004272461  |\n",
      "|  7  |  1.4140625000   |  1.4218750000   |  1.4179687500   |  0.0106353760   |\n",
      "|  8  |  1.4140625000   |  1.4179687500   |  1.4160156250   |  0.0051002502   |\n",
      "|  9  |  1.4140625000   |  1.4160156250   |  1.4150390625   |  0.0023355484   |\n",
      "| 10  |  1.4140625000   |  1.4150390625   |  1.4145507812   |  0.0009539127   |\n",
      "| 11  |  1.4140625000   |  1.4145507812   |  1.4143066406   |  0.0002632737   |\n",
      "| 12  |  1.4140625000   |  1.4143066406   |  1.4141845703   |  -0.0000820011  |\n",
      "| 13  |  1.4141845703   |  1.4143066406   |  1.4142456055   |  0.0000906326   |\n",
      "| 14  |  1.4141845703   |  1.4142456055   |  1.4142150879   |  0.0000043148   |\n",
      "\n",
      "Root: 1.414215087890625\n"
     ]
    }
   ],
   "source": [
    "# Bisection method\n",
    "\n",
    "#Importing libraries\n",
    "from math import *\n",
    "\n",
    "# Instructions for user\n",
    "print(\"Enter the function whose roots you want to find. The variable must be x\")\n",
    "print(\"\") # To leave a blank line\n",
    "\n",
    "# Taking input\n",
    "equation = input(\"Enter your function here: \")\n",
    "fx = eval(\"lambda x: \" + equation)\n",
    "print(\"\") # To leave a blank line\n",
    "\n",
    "start = float(input(\"Enter starting point of interval: \"))\n",
    "end = float(input(\"Enter ending point of interval: \"))\n",
    "while (end <= start): # Validation\n",
    "    print(\"The ending point should be greater than starting point!\")\n",
    "    start = float(input(\"Enter starting point of interval: \"))\n",
    "    end = float(input(\"Enter ending point of interval: \"))\n",
    "print(\"\") # To leave a blank line\n",
    "\n",
    "tolerance = float(input(\"Enter the tolerance value: \"))\n",
    "while (tolerance <= 0): #Validation\n",
    "    print(\"Enter a positive value!\")\n",
    "    tolerance = float(input(\"Enter the tolerance value: \"))\n",
    "print(\"\") # To leave a blank line\n",
    "\n",
    "# Root finding\n",
    "if (fx(start) * fx(end) > 0): # Wrong interval\n",
    "    print(\"Interval has no root!\")\n",
    "else:\n",
    "    find_root(fx, start, end, tolerance, True, 0)\n"
   ]
  }
 ],
 "metadata": {
  "kernelspec": {
   "display_name": "Python 3 (ipykernel)",
   "language": "python",
   "name": "python3"
  },
  "language_info": {
   "codemirror_mode": {
    "name": "ipython",
    "version": 3
   },
   "file_extension": ".py",
   "mimetype": "text/x-python",
   "name": "python",
   "nbconvert_exporter": "python",
   "pygments_lexer": "ipython3",
   "version": "3.9.7"
  }
 },
 "nbformat": 4,
 "nbformat_minor": 5
}
