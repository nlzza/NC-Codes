{
 "cells": [
  {
   "cell_type": "code",
   "execution_count": 1,
   "id": "ce9527ea",
   "metadata": {},
   "outputs": [],
   "source": [
    "# Function\n",
    "def find_root(fx, a, b, tol, boolean, n):\n",
    "    if (abs(fx(a)) <= tol): # Starting point of interval is the root\n",
    "        print(\"\\nRoot: {}\" .format(a))\n",
    "        return\n",
    "    if (abs(fx(b)) <= tol): # Ending point of interval is the root\n",
    "        print(\"\\nRoot: {}\" .format(b))\n",
    "        return\n",
    "    c = (a*fx(b) - b*fx(a)) / (fx(b) - fx(a))\n",
    "    if (boolean):\n",
    "        print(\"| {0:^3} | {1:^15} | {2:^15} | {3:^15} | {4:^15} |\" .format('n', 'xn', 'xn+1', 'xn+2', 'f(xn+2)'))\n",
    "    print(\"| {0:^3} | {1:^15.10f} | {2:^15.10f} | {3:^15.10f} | {4:^15.10f} |\" .format(n, a, b, c, fx(c)))\n",
    "    find_root(fx, b, c, tol, False, n+1)"
   ]
  },
  {
   "cell_type": "code",
   "execution_count": 2,
   "id": "142f98a1",
   "metadata": {},
   "outputs": [
    {
     "name": "stdout",
     "output_type": "stream",
     "text": [
      "Enter the function whose roots you want to find. The variable must be x\n",
      "\n",
      "Enter your function here: x - cos(x)\n",
      "\n",
      "Enter starting point of interval: 0\n",
      "Enter ending point of interval: 2\n",
      "\n",
      "Enter the tolerance value: 0.00001\n",
      "\n",
      "|  n  |       xn        |      xn+1       |      xn+2       |     f(xn+2)     |\n",
      "|  0  |  0.0000000000   |  2.0000000000   |  0.5854549279   |  -0.2480058608  |\n",
      "|  1  |  2.0000000000   |  0.5854549279   |  0.7171348683   |  -0.0365569965  |\n",
      "|  2  |  0.5854549279   |  0.7171348683   |  0.7399007655   |  0.0013652978   |\n",
      "|  3  |  0.7171348683   |  0.7399007655   |  0.7390811361   |  -0.0000066897  |\n",
      "\n",
      "Root: 0.7390811360542053\n"
     ]
    }
   ],
   "source": [
    "# Secant method\n",
    "\n",
    "#Importing libraries\n",
    "from math import *\n",
    "\n",
    "# Instructions for user\n",
    "print(\"Enter the function whose roots you want to find. The variable must be x\")\n",
    "print(\"\") # To leave a blank line\n",
    "\n",
    "# Taking input\n",
    "equation = input(\"Enter your function here: \")\n",
    "fx = eval(\"lambda x: \" + equation)\n",
    "print(\"\") # To leave a blank line\n",
    "\n",
    "start = float(input(\"Enter starting point of interval: \"))\n",
    "end = float(input(\"Enter ending point of interval: \"))\n",
    "while (end <= start): # Validation\n",
    "    print(\"The ending point should be greater than starting point!\")\n",
    "    start = float(input(\"Enter starting point of interval: \"))\n",
    "    end = float(input(\"Enter ending point of interval: \"))\n",
    "print(\"\") # To leave a blank line\n",
    "\n",
    "tolerance = float(input(\"Enter the tolerance value: \"))\n",
    "while (tolerance <= 0): #Validation\n",
    "    print(\"Enter a positive value!\")\n",
    "    tolerance = float(input(\"Enter the tolerance value: \"))\n",
    "print(\"\") # To leave a blank line\n",
    "\n",
    "# Root finding\n",
    "if (fx(start) * fx(end) > 0): # Wrong interval\n",
    "    print(\"Interval has no root!\")\n",
    "else:\n",
    "    find_root(fx, start, end, tolerance, True, 0)\n"
   ]
  }
 ],
 "metadata": {
  "kernelspec": {
   "display_name": "Python 3 (ipykernel)",
   "language": "python",
   "name": "python3"
  },
  "language_info": {
   "codemirror_mode": {
    "name": "ipython",
    "version": 3
   },
   "file_extension": ".py",
   "mimetype": "text/x-python",
   "name": "python",
   "nbconvert_exporter": "python",
   "pygments_lexer": "ipython3",
   "version": "3.9.7"
  }
 },
 "nbformat": 4,
 "nbformat_minor": 5
}
